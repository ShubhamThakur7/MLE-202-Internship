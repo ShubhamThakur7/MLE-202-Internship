{
 "cells": [
  {
   "cell_type": "code",
   "execution_count": 1,
   "metadata": {},
   "outputs": [],
   "source": [
    "import pandas as pd \n",
    "import numpy as np\n",
    "import seaborn as sns\n",
    "import matplotlib.pyplot as plt\n",
    "%matplotlib inline"
   ]
  },
  {
   "cell_type": "code",
   "execution_count": 2,
   "metadata": {},
   "outputs": [],
   "source": [
    "import warnings\n",
    "warnings.filterwarnings('ignore')"
   ]
  },
  {
   "cell_type": "code",
   "execution_count": 3,
   "metadata": {},
   "outputs": [],
   "source": [
    "amzn = pd.read_csv(\"Amazon_data.csv\",parse_dates=['Date'],index_col=['Date'])"
   ]
  },
  {
   "cell_type": "code",
   "execution_count": 4,
   "metadata": {},
   "outputs": [
    {
     "data": {
      "text/html": [
       "<div>\n",
       "<style scoped>\n",
       "    .dataframe tbody tr th:only-of-type {\n",
       "        vertical-align: middle;\n",
       "    }\n",
       "\n",
       "    .dataframe tbody tr th {\n",
       "        vertical-align: top;\n",
       "    }\n",
       "\n",
       "    .dataframe thead th {\n",
       "        text-align: right;\n",
       "    }\n",
       "</style>\n",
       "<table border=\"1\" class=\"dataframe\">\n",
       "  <thead>\n",
       "    <tr style=\"text-align: right;\">\n",
       "      <th></th>\n",
       "      <th>Close/Last</th>\n",
       "      <th>Volume</th>\n",
       "      <th>Open</th>\n",
       "      <th>High</th>\n",
       "      <th>Low</th>\n",
       "    </tr>\n",
       "    <tr>\n",
       "      <th>Date</th>\n",
       "      <th></th>\n",
       "      <th></th>\n",
       "      <th></th>\n",
       "      <th></th>\n",
       "      <th></th>\n",
       "    </tr>\n",
       "  </thead>\n",
       "  <tbody>\n",
       "    <tr>\n",
       "      <th>2021-07-16</th>\n",
       "      <td>$3573.63</td>\n",
       "      <td>4043706</td>\n",
       "      <td>$3633.31</td>\n",
       "      <td>$3646.0599</td>\n",
       "      <td>$3570.455</td>\n",
       "    </tr>\n",
       "    <tr>\n",
       "      <th>2021-07-15</th>\n",
       "      <td>$3631.2</td>\n",
       "      <td>3185292</td>\n",
       "      <td>$3694.2</td>\n",
       "      <td>$3695.4</td>\n",
       "      <td>$3620.92</td>\n",
       "    </tr>\n",
       "    <tr>\n",
       "      <th>2021-07-14</th>\n",
       "      <td>$3681.68</td>\n",
       "      <td>3296568</td>\n",
       "      <td>$3708.85</td>\n",
       "      <td>$3717.66</td>\n",
       "      <td>$3660.8266</td>\n",
       "    </tr>\n",
       "    <tr>\n",
       "      <th>2021-07-13</th>\n",
       "      <td>$3677.36</td>\n",
       "      <td>3845917</td>\n",
       "      <td>$3702.1</td>\n",
       "      <td>$3773.0782</td>\n",
       "      <td>$3671.32</td>\n",
       "    </tr>\n",
       "    <tr>\n",
       "      <th>2021-07-12</th>\n",
       "      <td>$3718.55</td>\n",
       "      <td>2571635</td>\n",
       "      <td>$3744</td>\n",
       "      <td>$3757.2899</td>\n",
       "      <td>$3696.7929</td>\n",
       "    </tr>\n",
       "  </tbody>\n",
       "</table>\n",
       "</div>"
      ],
      "text/plain": [
       "           Close/Last   Volume      Open        High         Low\n",
       "Date                                                            \n",
       "2021-07-16   $3573.63  4043706  $3633.31  $3646.0599   $3570.455\n",
       "2021-07-15    $3631.2  3185292   $3694.2     $3695.4    $3620.92\n",
       "2021-07-14   $3681.68  3296568  $3708.85    $3717.66  $3660.8266\n",
       "2021-07-13   $3677.36  3845917   $3702.1  $3773.0782    $3671.32\n",
       "2021-07-12   $3718.55  2571635     $3744  $3757.2899  $3696.7929"
      ]
     },
     "execution_count": 4,
     "metadata": {},
     "output_type": "execute_result"
    }
   ],
   "source": [
    "amzn.head()"
   ]
  },
  {
   "cell_type": "code",
   "execution_count": 5,
   "metadata": {},
   "outputs": [],
   "source": [
    "amzn.sort_index(inplace=True)\n",
    "#removing the '$' sign\n",
    "for i in amzn[['Close/Last','Open','High','Low']]:\n",
    "    amzn[i] =amzn[i].map(lambda x:x.replace('$',\"\")).astype(float)\n",
    "# rounding off to two decimal points\n",
    "amzn = round(amzn,2)"
   ]
  },
  {
   "cell_type": "code",
   "execution_count": 6,
   "metadata": {},
   "outputs": [
    {
     "data": {
      "text/html": [
       "<div>\n",
       "<style scoped>\n",
       "    .dataframe tbody tr th:only-of-type {\n",
       "        vertical-align: middle;\n",
       "    }\n",
       "\n",
       "    .dataframe tbody tr th {\n",
       "        vertical-align: top;\n",
       "    }\n",
       "\n",
       "    .dataframe thead th {\n",
       "        text-align: right;\n",
       "    }\n",
       "</style>\n",
       "<table border=\"1\" class=\"dataframe\">\n",
       "  <thead>\n",
       "    <tr style=\"text-align: right;\">\n",
       "      <th></th>\n",
       "      <th>Close/Last</th>\n",
       "      <th>Volume</th>\n",
       "      <th>Open</th>\n",
       "      <th>High</th>\n",
       "      <th>Low</th>\n",
       "    </tr>\n",
       "    <tr>\n",
       "      <th>Date</th>\n",
       "      <th></th>\n",
       "      <th></th>\n",
       "      <th></th>\n",
       "      <th></th>\n",
       "      <th></th>\n",
       "    </tr>\n",
       "  </thead>\n",
       "  <tbody>\n",
       "    <tr>\n",
       "      <th>2016-07-18</th>\n",
       "      <td>736.07</td>\n",
       "      <td>2952099</td>\n",
       "      <td>735.49</td>\n",
       "      <td>741.60</td>\n",
       "      <td>728.72</td>\n",
       "    </tr>\n",
       "    <tr>\n",
       "      <th>2016-07-19</th>\n",
       "      <td>739.95</td>\n",
       "      <td>2210751</td>\n",
       "      <td>732.50</td>\n",
       "      <td>743.33</td>\n",
       "      <td>732.31</td>\n",
       "    </tr>\n",
       "    <tr>\n",
       "      <th>2016-07-20</th>\n",
       "      <td>745.72</td>\n",
       "      <td>2192779</td>\n",
       "      <td>744.00</td>\n",
       "      <td>746.25</td>\n",
       "      <td>740.70</td>\n",
       "    </tr>\n",
       "    <tr>\n",
       "      <th>2016-07-21</th>\n",
       "      <td>744.43</td>\n",
       "      <td>2315367</td>\n",
       "      <td>747.50</td>\n",
       "      <td>749.36</td>\n",
       "      <td>742.79</td>\n",
       "    </tr>\n",
       "    <tr>\n",
       "      <th>2016-07-22</th>\n",
       "      <td>744.86</td>\n",
       "      <td>2259345</td>\n",
       "      <td>747.79</td>\n",
       "      <td>751.28</td>\n",
       "      <td>743.53</td>\n",
       "    </tr>\n",
       "  </tbody>\n",
       "</table>\n",
       "</div>"
      ],
      "text/plain": [
       "            Close/Last   Volume    Open    High     Low\n",
       "Date                                                   \n",
       "2016-07-18      736.07  2952099  735.49  741.60  728.72\n",
       "2016-07-19      739.95  2210751  732.50  743.33  732.31\n",
       "2016-07-20      745.72  2192779  744.00  746.25  740.70\n",
       "2016-07-21      744.43  2315367  747.50  749.36  742.79\n",
       "2016-07-22      744.86  2259345  747.79  751.28  743.53"
      ]
     },
     "execution_count": 6,
     "metadata": {},
     "output_type": "execute_result"
    }
   ],
   "source": [
    "amzn.head()"
   ]
  },
  {
   "cell_type": "code",
   "execution_count": 7,
   "metadata": {},
   "outputs": [
    {
     "data": {
      "text/plain": [
       "<matplotlib.axes._subplots.AxesSubplot at 0x2084072f390>"
      ]
     },
     "execution_count": 7,
     "metadata": {},
     "output_type": "execute_result"
    },
    {
     "data": {
      "image/png": "[encoded data removed]",
      "text/plain": [
       "<Figure size 720x432 with 1 Axes>"
      ]
     },
     "metadata": {},
     "output_type": "display_data"
    }
   ],
   "source": [
    "amzn['Volume'].plot(kind='box',figsize=(10,6))"
   ]
  },
  {
   "cell_type": "code",
   "execution_count": 8,
   "metadata": {},
   "outputs": [
    {
     "data": {
      "text/html": [
       "<div>\n",
       "<style scoped>\n",
       "    .dataframe tbody tr th:only-of-type {\n",
       "        vertical-align: middle;\n",
       "    }\n",
       "\n",
       "    .dataframe tbody tr th {\n",
       "        vertical-align: top;\n",
       "    }\n",
       "\n",
       "    .dataframe thead th {\n",
       "        text-align: right;\n",
       "    }\n",
       "</style>\n",
       "<table border=\"1\" class=\"dataframe\">\n",
       "  <thead>\n",
       "    <tr style=\"text-align: right;\">\n",
       "      <th></th>\n",
       "      <th>Close/Last</th>\n",
       "      <th>Volume</th>\n",
       "      <th>Open</th>\n",
       "      <th>High</th>\n",
       "      <th>Low</th>\n",
       "    </tr>\n",
       "  </thead>\n",
       "  <tbody>\n",
       "    <tr>\n",
       "      <th>Close/Last</th>\n",
       "      <td>1.000000</td>\n",
       "      <td>0.061855</td>\n",
       "      <td>0.999276</td>\n",
       "      <td>0.999654</td>\n",
       "      <td>0.999671</td>\n",
       "    </tr>\n",
       "    <tr>\n",
       "      <th>Volume</th>\n",
       "      <td>0.061855</td>\n",
       "      <td>1.000000</td>\n",
       "      <td>0.064036</td>\n",
       "      <td>0.072706</td>\n",
       "      <td>0.051556</td>\n",
       "    </tr>\n",
       "    <tr>\n",
       "      <th>Open</th>\n",
       "      <td>0.999276</td>\n",
       "      <td>0.064036</td>\n",
       "      <td>1.000000</td>\n",
       "      <td>0.999700</td>\n",
       "      <td>0.999599</td>\n",
       "    </tr>\n",
       "    <tr>\n",
       "      <th>High</th>\n",
       "      <td>0.999654</td>\n",
       "      <td>0.072706</td>\n",
       "      <td>0.999700</td>\n",
       "      <td>1.000000</td>\n",
       "      <td>0.999518</td>\n",
       "    </tr>\n",
       "    <tr>\n",
       "      <th>Low</th>\n",
       "      <td>0.999671</td>\n",
       "      <td>0.051556</td>\n",
       "      <td>0.999599</td>\n",
       "      <td>0.999518</td>\n",
       "      <td>1.000000</td>\n",
       "    </tr>\n",
       "  </tbody>\n",
       "</table>\n",
       "</div>"
      ],
      "text/plain": [
       "            Close/Last    Volume      Open      High       Low\n",
       "Close/Last    1.000000  0.061855  0.999276  0.999654  0.999671\n",
       "Volume        0.061855  1.000000  0.064036  0.072706  0.051556\n",
       "Open          0.999276  0.064036  1.000000  0.999700  0.999599\n",
       "High          0.999654  0.072706  0.999700  1.000000  0.999518\n",
       "Low           0.999671  0.051556  0.999599  0.999518  1.000000"
      ]
     },
     "execution_count": 8,
     "metadata": {},
     "output_type": "execute_result"
    }
   ],
   "source": [
    "#to check the correlation\n",
    "amzn.corr()"
   ]
  },
  {
   "cell_type": "markdown",
   "metadata": {},
   "source": [
    "### Here we can see that there is very less correlation with volume and also there are outliers so we can drop the 'Volume' column"
   ]
  },
  {
   "cell_type": "code",
   "execution_count": 9,
   "metadata": {},
   "outputs": [],
   "source": [
    "amzn_cleaned=amzn.drop(columns=['Volume'])"
   ]
  },
  {
   "cell_type": "code",
   "execution_count": 10,
   "metadata": {},
   "outputs": [
    {
     "data": {
      "image/png": "[encoded data removed]",
      "text/plain": [
       "<Figure size 1152x720 with 4 Axes>"
      ]
     },
     "metadata": {},
     "output_type": "display_data"
    }
   ],
   "source": [
    "fig, axes = plt.subplots(2, 2,figsize=(16,10), sharey=True)\n",
    "fig.suptitle('Amazon Stock Data')\n",
    "\n",
    "\n",
    "sns.lineplot(ax=axes[0,0], x=amzn_cleaned.index, y=amzn_cleaned['Close/Last'])\n",
    "plt.title('Close/last')\n",
    "\n",
    "sns.lineplot(ax=axes[0,1], x=amzn_cleaned.index, y=amzn_cleaned['Open'])\n",
    "plt.title('Open')\n",
    "\n",
    "sns.lineplot(ax=axes[1,0], x=amzn_cleaned.index, y=amzn_cleaned['High'])\n",
    "plt.title('High')\n",
    "\n",
    "sns.lineplot(ax=axes[1,1], x=amzn_cleaned.index, y=amzn_cleaned['Low'])\n",
    "plt.title('Low')\n",
    "\n",
    "plt.show()"
   ]
  },
  {
   "cell_type": "markdown",
   "metadata": {},
   "source": [
    "## Modeling"
   ]
  },
  {
   "cell_type": "code",
   "execution_count": 11,
   "metadata": {},
   "outputs": [],
   "source": [
    "from sklearn.model_selection import train_test_split\n",
    "from sklearn.linear_model import LinearRegression\n",
    "from sklearn.metrics import mean_squared_error, r2_score,accuracy_score,classification_report\n",
    "from sklearn.preprocessing import MinMaxScaler\n",
    "from math import sqrt"
   ]
  },
  {
   "cell_type": "code",
   "execution_count": 12,
   "metadata": {},
   "outputs": [],
   "source": [
    "scaler=MinMaxScaler(feature_range=(0,1))\n",
    "X1= amzn_cleaned.iloc[:,1:4]\n",
    "y=amzn['Close/Last']\n",
    "X=scaler.fit_transform(X1)"
   ]
  },
  {
   "cell_type": "code",
   "execution_count": 13,
   "metadata": {},
   "outputs": [],
   "source": [
    "X_train,X_test,y_train,y_test=train_test_split(X,y,train_size=0.7)"
   ]
  },
  {
   "cell_type": "code",
   "execution_count": 14,
   "metadata": {},
   "outputs": [
    {
     "data": {
      "text/plain": [
       "((881, 3), (378, 3), (881,), (378,))"
      ]
     },
     "execution_count": 14,
     "metadata": {},
     "output_type": "execute_result"
    }
   ],
   "source": [
    "X_train.shape,X_test.shape,y_train.shape,y_test.shape"
   ]
  },
  {
   "cell_type": "markdown",
   "metadata": {},
   "source": [
    "## Fitting Linear regession Model"
   ]
  },
  {
   "cell_type": "code",
   "execution_count": 15,
   "metadata": {},
   "outputs": [],
   "source": [
    "lnr= LinearRegression()\n",
    "model=lnr.fit(X_train,y_train)"
   ]
  },
  {
   "cell_type": "code",
   "execution_count": 16,
   "metadata": {},
   "outputs": [],
   "source": [
    "y_pred=model.predict(X_test)"
   ]
  },
  {
   "cell_type": "code",
   "execution_count": 17,
   "metadata": {},
   "outputs": [
    {
     "data": {
      "text/plain": [
       "0.9997322684183341"
      ]
     },
     "execution_count": 17,
     "metadata": {},
     "output_type": "execute_result"
    }
   ],
   "source": [
    "r2_score(y_test,y_pred)"
   ]
  },
  {
   "cell_type": "code",
   "execution_count": 18,
   "metadata": {},
   "outputs": [
    {
     "data": {
      "text/plain": [
       "0.9997362508520083"
      ]
     },
     "execution_count": 18,
     "metadata": {},
     "output_type": "execute_result"
    }
   ],
   "source": [
    "r2_score(y_train,model.predict(X_train))"
   ]
  },
  {
   "cell_type": "code",
   "execution_count": 19,
   "metadata": {},
   "outputs": [
    {
     "data": {
      "text/plain": [
       "13.688391124491822"
      ]
     },
     "execution_count": 19,
     "metadata": {},
     "output_type": "execute_result"
    }
   ],
   "source": [
    "sqrt(mean_squared_error(y_test,y_pred))"
   ]
  },
  {
   "cell_type": "code",
   "execution_count": 20,
   "metadata": {},
   "outputs": [
    {
     "data": {
      "text/plain": [
       "13.64202948258606"
      ]
     },
     "execution_count": 20,
     "metadata": {},
     "output_type": "execute_result"
    }
   ],
   "source": [
    "sqrt(mean_squared_error(y_train,model.predict(X_train)))"
   ]
  },
  {
   "cell_type": "markdown",
   "metadata": {},
   "source": [
    "### Manually dividing into train and test data"
   ]
  },
  {
   "cell_type": "code",
   "execution_count": 21,
   "metadata": {},
   "outputs": [],
   "source": [
    "#using 30% of data for validaton\n",
    "train_data = amzn_cleaned[:881]\n",
    "valid_data = amzn_cleaned[881:]"
   ]
  },
  {
   "cell_type": "code",
   "execution_count": 22,
   "metadata": {},
   "outputs": [],
   "source": [
    "xtrain = train_data.drop('Close/Last', axis=1)\n",
    "ytrain = train_data['Close/Last']\n",
    "xtest = valid_data.drop('Close/Last', axis=1)\n",
    "ytest = valid_data['Close/Last']"
   ]
  },
  {
   "cell_type": "code",
   "execution_count": 25,
   "metadata": {},
   "outputs": [],
   "source": [
    "#fitting the regression model\n",
    "new_model=lnr.fit(xtrain,ytrain)"
   ]
  },
  {
   "cell_type": "code",
   "execution_count": 26,
   "metadata": {},
   "outputs": [],
   "source": [
    "ypred=new_model.predict(xtest)"
   ]
  },
  {
   "cell_type": "code",
   "execution_count": 27,
   "metadata": {},
   "outputs": [
    {
     "data": {
      "text/plain": [
       "0.9981915886862777"
      ]
     },
     "execution_count": 27,
     "metadata": {},
     "output_type": "execute_result"
    }
   ],
   "source": [
    "r2_score(ytest,ypred)"
   ]
  },
  {
   "cell_type": "code",
   "execution_count": 28,
   "metadata": {},
   "outputs": [
    {
     "data": {
      "text/plain": [
       "0.9996396335813047"
      ]
     },
     "execution_count": 28,
     "metadata": {},
     "output_type": "execute_result"
    }
   ],
   "source": [
    "r2_score(ytrain,new_model.predict(xtrain))"
   ]
  },
  {
   "cell_type": "code",
   "execution_count": 29,
   "metadata": {},
   "outputs": [
    {
     "data": {
      "text/plain": [
       "21.88482223173948"
      ]
     },
     "execution_count": 29,
     "metadata": {},
     "output_type": "execute_result"
    }
   ],
   "source": [
    "sqrt(mean_squared_error(ytest,ypred))"
   ]
  },
  {
   "cell_type": "code",
   "execution_count": 30,
   "metadata": {},
   "outputs": [
    {
     "data": {
      "text/plain": [
       "8.146884906335284"
      ]
     },
     "execution_count": 30,
     "metadata": {},
     "output_type": "execute_result"
    }
   ],
   "source": [
    "sqrt(mean_squared_error(ytrain,model.predict(xtrain)))"
   ]
  },
  {
   "cell_type": "code",
   "execution_count": 31,
   "metadata": {},
   "outputs": [],
   "source": [
    "valid_data['Predictions']=0\n",
    "valid_data['Predictions']=ypred"
   ]
  },
  {
   "cell_type": "code",
   "execution_count": 33,
   "metadata": {},
   "outputs": [
    {
     "data": {
      "image/png": "[encoded data removed]",
      "text/plain": [
       "<Figure size 1080x576 with 1 Axes>"
      ]
     },
     "metadata": {},
     "output_type": "display_data"
    }
   ],
   "source": [
    "fig=plt.figure(figsize=(15,8))\n",
    "plt.plot(valid_data[['Close/Last', 'Predictions']])\n",
    "#plt.plot(valid_data['Close/Last'])\n",
    "#plt.plot(valid_data['Predictions'])\n",
    "plt.plot(train_data['Close/Last'],label=\"train_data_close\")\n",
    "\n",
    "plt.show()"
   ]
  },
  {
   "cell_type": "markdown",
   "metadata": {},
   "source": [
    "# Using LSTM model"
   ]
  },
  {
   "cell_type": "code",
   "execution_count": 34,
   "metadata": {},
   "outputs": [
    {
     "data": {
      "text/html": [
       "<div>\n",
       "<style scoped>\n",
       "    .dataframe tbody tr th:only-of-type {\n",
       "        vertical-align: middle;\n",
       "    }\n",
       "\n",
       "    .dataframe tbody tr th {\n",
       "        vertical-align: top;\n",
       "    }\n",
       "\n",
       "    .dataframe thead th {\n",
       "        text-align: right;\n",
       "    }\n",
       "</style>\n",
       "<table border=\"1\" class=\"dataframe\">\n",
       "  <thead>\n",
       "    <tr style=\"text-align: right;\">\n",
       "      <th></th>\n",
       "      <th>Open</th>\n",
       "      <th>High</th>\n",
       "      <th>Low</th>\n",
       "    </tr>\n",
       "    <tr>\n",
       "      <th>Date</th>\n",
       "      <th></th>\n",
       "      <th></th>\n",
       "      <th></th>\n",
       "    </tr>\n",
       "  </thead>\n",
       "  <tbody>\n",
       "    <tr>\n",
       "      <th>2016-07-18</th>\n",
       "      <td>735.49</td>\n",
       "      <td>741.60</td>\n",
       "      <td>728.72</td>\n",
       "    </tr>\n",
       "    <tr>\n",
       "      <th>2016-07-19</th>\n",
       "      <td>732.50</td>\n",
       "      <td>743.33</td>\n",
       "      <td>732.31</td>\n",
       "    </tr>\n",
       "    <tr>\n",
       "      <th>2016-07-20</th>\n",
       "      <td>744.00</td>\n",
       "      <td>746.25</td>\n",
       "      <td>740.70</td>\n",
       "    </tr>\n",
       "    <tr>\n",
       "      <th>2016-07-21</th>\n",
       "      <td>747.50</td>\n",
       "      <td>749.36</td>\n",
       "      <td>742.79</td>\n",
       "    </tr>\n",
       "    <tr>\n",
       "      <th>2016-07-22</th>\n",
       "      <td>747.79</td>\n",
       "      <td>751.28</td>\n",
       "      <td>743.53</td>\n",
       "    </tr>\n",
       "    <tr>\n",
       "      <th>...</th>\n",
       "      <td>...</td>\n",
       "      <td>...</td>\n",
       "      <td>...</td>\n",
       "    </tr>\n",
       "    <tr>\n",
       "      <th>2021-07-12</th>\n",
       "      <td>3744.00</td>\n",
       "      <td>3757.29</td>\n",
       "      <td>3696.79</td>\n",
       "    </tr>\n",
       "    <tr>\n",
       "      <th>2021-07-13</th>\n",
       "      <td>3702.10</td>\n",
       "      <td>3773.08</td>\n",
       "      <td>3671.32</td>\n",
       "    </tr>\n",
       "    <tr>\n",
       "      <th>2021-07-14</th>\n",
       "      <td>3708.85</td>\n",
       "      <td>3717.66</td>\n",
       "      <td>3660.83</td>\n",
       "    </tr>\n",
       "    <tr>\n",
       "      <th>2021-07-15</th>\n",
       "      <td>3694.20</td>\n",
       "      <td>3695.40</td>\n",
       "      <td>3620.92</td>\n",
       "    </tr>\n",
       "    <tr>\n",
       "      <th>2021-07-16</th>\n",
       "      <td>3633.31</td>\n",
       "      <td>3646.06</td>\n",
       "      <td>3570.46</td>\n",
       "    </tr>\n",
       "  </tbody>\n",
       "</table>\n",
       "<p>1259 rows × 3 columns</p>\n",
       "</div>"
      ],
      "text/plain": [
       "               Open     High      Low\n",
       "Date                                 \n",
       "2016-07-18   735.49   741.60   728.72\n",
       "2016-07-19   732.50   743.33   732.31\n",
       "2016-07-20   744.00   746.25   740.70\n",
       "2016-07-21   747.50   749.36   742.79\n",
       "2016-07-22   747.79   751.28   743.53\n",
       "...             ...      ...      ...\n",
       "2021-07-12  3744.00  3757.29  3696.79\n",
       "2021-07-13  3702.10  3773.08  3671.32\n",
       "2021-07-14  3708.85  3717.66  3660.83\n",
       "2021-07-15  3694.20  3695.40  3620.92\n",
       "2021-07-16  3633.31  3646.06  3570.46\n",
       "\n",
       "[1259 rows x 3 columns]"
      ]
     },
     "execution_count": 34,
     "metadata": {},
     "output_type": "execute_result"
    }
   ],
   "source": [
    "x_new=amzn_cleaned.iloc[:,1:4]\n",
    "x_new"
   ]
  },
  {
   "cell_type": "code",
   "execution_count": 35,
   "metadata": {},
   "outputs": [],
   "source": [
    "y_new=amzn_cleaned[\"Close/Last\"]"
   ]
  },
  {
   "cell_type": "code",
   "execution_count": 36,
   "metadata": {},
   "outputs": [
    {
     "data": {
      "text/plain": [
       "(array([[1.82149967e-03, 2.17668050e-04, 6.23432629e-03],\n",
       "        [8.29462508e-04, 7.88222180e-04, 7.43632583e-03],\n",
       "        [4.64499005e-03, 1.75123840e-03, 1.02454557e-02],\n",
       "        ...,\n",
       "        [9.88337757e-01, 9.81722480e-01, 9.87959915e-01],\n",
       "        [9.83477107e-01, 9.74381130e-01, 9.74597297e-01],\n",
       "        [9.63274718e-01, 9.58108794e-01, 9.57702339e-01]]),\n",
       " array([[0.00564345],\n",
       "        [0.00693149],\n",
       "        [0.00884694],\n",
       "        ...,\n",
       "        [0.98349124],\n",
       "        [0.9667335 ],\n",
       "        [0.94762211]]))"
      ]
     },
     "execution_count": 36,
     "metadata": {},
     "output_type": "execute_result"
    }
   ],
   "source": [
    "from sklearn.preprocessing import MinMaxScaler\n",
    "\n",
    "# scaling the feature dataset\n",
    "scaler_x = MinMaxScaler (feature_range=(0, 1))\n",
    "x1 = np.array(x_new).reshape((len(x_new) ,3))\n",
    "x1 = scaler_x.fit_transform(x1)\n",
    "\n",
    "# scaling the target variable\n",
    "scaler_y =MinMaxScaler (feature_range=(0, 1))\n",
    "y1 = np.array (y_new).reshape ((len( y_new), 1))\n",
    "y1 = scaler_y.fit_transform (y1)\n",
    "\n",
    "# displaying the scaled feature dataset and the target variable\n",
    "x1, y1"
   ]
  },
  {
   "cell_type": "code",
   "execution_count": 37,
   "metadata": {},
   "outputs": [
    {
     "name": "stdout",
     "output_type": "stream",
     "text": [
      "Number of records in Training Data: 880\n",
      "Number of records in Test Data: 379\n"
     ]
    }
   ],
   "source": [
    "# calculating data_to_use\n",
    "percentage_of_data = 1.0\n",
    "data_to_use = int(percentage_of_data*(len(y1)-1))\n",
    "\n",
    "# using 80% of data for training\n",
    "train_end = int(data_to_use*0.7)\n",
    "total_data = len(y1)\n",
    "start = total_data - data_to_use\n",
    "\n",
    "# printing number of records in the training and test datasets\n",
    "print(\"Number of records in Training Data:\", train_end)\n",
    "print(\"Number of records in Test Data:\", total_data - train_end)"
   ]
  },
  {
   "cell_type": "code",
   "execution_count": 38,
   "metadata": {},
   "outputs": [
    {
     "name": "stdout",
     "output_type": "stream",
     "text": [
      "Number of rows and columns in the Training set X: (881, 3) and y: (881,)\n",
      "Number of rows and columns in the Test set X: (378, 3) and y: (378,)\n"
     ]
    }
   ],
   "source": [
    "# preparing training and test dataset\n",
    "X_train_new = x1[0 : train_end,]\n",
    "X_test_new = x1[train_end+1 : len(x1),]    \n",
    "y_train_new = y1[0 : train_end] \n",
    "y_test_new = y1[train_end+1 : len(y1)]  \n",
    "\n",
    "# printing the shape of the training and the test datasets\n",
    "print('Number of rows and columns in the Training set X:', X_train.shape, 'and y:', y_train.shape)\n",
    "print('Number of rows and columns in the Test set X:', X_test.shape, 'and y:', y_test.shape)"
   ]
  },
  {
   "cell_type": "code",
   "execution_count": 39,
   "metadata": {},
   "outputs": [
    {
     "data": {
      "text/plain": [
       "((880, 3), (378, 3), (880, 1), (378, 1))"
      ]
     },
     "execution_count": 39,
     "metadata": {},
     "output_type": "execute_result"
    }
   ],
   "source": [
    "X_train_new.shape, X_test_new.shape, y_train_new.shape, y_test_new.shape"
   ]
  },
  {
   "cell_type": "code",
   "execution_count": 40,
   "metadata": {},
   "outputs": [],
   "source": [
    "# converting into 3d for lstm\n",
    "X_train_new =X_train_new.reshape(X_train_new.shape[0],X_train.shape[1] , 1)\n",
    "X_test_new = X_test_new.reshape(X_test_new.shape[0],X_test_new.shape[1] , 1)"
   ]
  },
  {
   "cell_type": "code",
   "execution_count": 41,
   "metadata": {},
   "outputs": [
    {
     "data": {
      "text/plain": [
       "(880, 3, 1)"
      ]
     },
     "execution_count": 41,
     "metadata": {},
     "output_type": "execute_result"
    }
   ],
   "source": [
    "X_train_new.shape"
   ]
  },
  {
   "cell_type": "code",
   "execution_count": 42,
   "metadata": {},
   "outputs": [],
   "source": [
    "\n",
    "### Create the Stacked LSTM model\n",
    "from tensorflow.keras.models import Sequential\n",
    "from tensorflow.keras.layers import Dense\n",
    "from tensorflow.keras.layers import LSTM"
   ]
  },
  {
   "cell_type": "code",
   "execution_count": 43,
   "metadata": {},
   "outputs": [
    {
     "name": "stdout",
     "output_type": "stream",
     "text": [
      "WARNING:tensorflow:From C:\\Users\\acer\\Anaconda3\\lib\\site-packages\\tensorflow\\python\\ops\\init_ops.py:1251: calling VarianceScaling.__init__ (from tensorflow.python.ops.init_ops) with dtype is deprecated and will be removed in a future version.\n",
      "Instructions for updating:\n",
      "Call initializer instance with the dtype argument instead of passing it to the constructor\n"
     ]
    }
   ],
   "source": [
    "\n",
    "model=Sequential()\n",
    "model.add(LSTM(50,return_sequences=True,input_shape=(3,1)))\n",
    "model.add(LSTM(50,return_sequences=True))\n",
    "model.add(LSTM(50))\n",
    "model.add(Dense(1))\n",
    "model.compile(loss='mean_squared_error',optimizer='adam')"
   ]
  },
  {
   "cell_type": "code",
   "execution_count": 44,
   "metadata": {},
   "outputs": [
    {
     "name": "stdout",
     "output_type": "stream",
     "text": [
      "Model: \"sequential\"\n",
      "_________________________________________________________________\n",
      "Layer (type)                 Output Shape              Param #   \n",
      "=================================================================\n",
      "lstm (LSTM)                  (None, 3, 50)             10400     \n",
      "_________________________________________________________________\n",
      "lstm_1 (LSTM)                (None, 3, 50)             20200     \n",
      "_________________________________________________________________\n",
      "lstm_2 (LSTM)                (None, 50)                20200     \n",
      "_________________________________________________________________\n",
      "dense (Dense)                (None, 1)                 51        \n",
      "=================================================================\n",
      "Total params: 50,851\n",
      "Trainable params: 50,851\n",
      "Non-trainable params: 0\n",
      "_________________________________________________________________\n"
     ]
    }
   ],
   "source": [
    "model.summary()"
   ]
  },
  {
   "cell_type": "code",
   "execution_count": 45,
   "metadata": {},
   "outputs": [
    {
     "name": "stdout",
     "output_type": "stream",
     "text": [
      "Train on 880 samples, validate on 378 samples\n",
      "WARNING:tensorflow:From C:\\Users\\acer\\Anaconda3\\lib\\site-packages\\tensorflow\\python\\ops\\math_grad.py:1250: add_dispatch_support.<locals>.wrapper (from tensorflow.python.ops.array_ops) is deprecated and will be removed in a future version.\n",
      "Instructions for updating:\n",
      "Use tf.where in 2.0, which has the same broadcast rule as np.where\n",
      "Epoch 1/100\n",
      "880/880 [==============================] - 8s 9ms/sample - loss: 0.0447 - val_loss: 0.2830\n",
      "Epoch 2/100\n",
      "880/880 [==============================] - 0s 511us/sample - loss: 0.0168 - val_loss: 0.1341\n",
      "Epoch 3/100\n",
      "880/880 [==============================] - 0s 443us/sample - loss: 0.0113 - val_loss: 0.1151\n",
      "Epoch 4/100\n",
      "880/880 [==============================] - 0s 473us/sample - loss: 0.0056 - val_loss: 0.0073\n",
      "Epoch 5/100\n",
      "880/880 [==============================] - 0s 494us/sample - loss: 7.1528e-04 - val_loss: 0.0528\n",
      "Epoch 6/100\n",
      "880/880 [==============================] - 0s 459us/sample - loss: 3.4475e-04 - val_loss: 0.0203\n",
      "Epoch 7/100\n",
      "880/880 [==============================] - 0s 548us/sample - loss: 8.7780e-05 - val_loss: 0.0096\n",
      "Epoch 8/100\n",
      "880/880 [==============================] - 0s 477us/sample - loss: 7.1857e-05 - val_loss: 0.0160\n",
      "Epoch 9/100\n",
      "880/880 [==============================] - 0s 439us/sample - loss: 6.4046e-05 - val_loss: 0.0144\n",
      "Epoch 10/100\n",
      "880/880 [==============================] - 0s 455us/sample - loss: 6.0637e-05 - val_loss: 0.0109\n",
      "Epoch 11/100\n",
      "880/880 [==============================] - 0s 440us/sample - loss: 5.6540e-05 - val_loss: 0.0109\n",
      "Epoch 12/100\n",
      "880/880 [==============================] - 0s 494us/sample - loss: 5.4656e-05 - val_loss: 0.0095\n",
      "Epoch 13/100\n",
      "880/880 [==============================] - 0s 464us/sample - loss: 5.2398e-05 - val_loss: 0.0085\n",
      "Epoch 14/100\n",
      "880/880 [==============================] - 0s 484us/sample - loss: 5.2034e-05 - val_loss: 0.0082\n",
      "Epoch 15/100\n",
      "880/880 [==============================] - 0s 532us/sample - loss: 5.1324e-05 - val_loss: 0.0071\n",
      "Epoch 16/100\n",
      "880/880 [==============================] - 1s 618us/sample - loss: 4.9027e-05 - val_loss: 0.0049\n",
      "Epoch 17/100\n",
      "880/880 [==============================] - 1s 575us/sample - loss: 4.6790e-05 - val_loss: 0.0048\n",
      "Epoch 18/100\n",
      "880/880 [==============================] - 1s 573us/sample - loss: 4.7389e-05 - val_loss: 0.0047\n",
      "Epoch 19/100\n",
      "880/880 [==============================] - 1s 615us/sample - loss: 4.5447e-05 - val_loss: 0.0030\n",
      "Epoch 20/100\n",
      "880/880 [==============================] - 1s 698us/sample - loss: 4.7990e-05 - val_loss: 0.0028\n",
      "Epoch 21/100\n",
      "880/880 [==============================] - 1s 592us/sample - loss: 4.2139e-05 - val_loss: 0.0026\n",
      "Epoch 22/100\n",
      "880/880 [==============================] - 0s 472us/sample - loss: 4.0857e-05 - val_loss: 0.0021\n",
      "Epoch 23/100\n",
      "880/880 [==============================] - 0s 441us/sample - loss: 4.1057e-05 - val_loss: 0.0019\n",
      "Epoch 24/100\n",
      "880/880 [==============================] - 0s 461us/sample - loss: 4.1208e-05 - val_loss: 0.0014\n",
      "Epoch 25/100\n",
      "880/880 [==============================] - 0s 484us/sample - loss: 3.9696e-05 - val_loss: 0.0014\n",
      "Epoch 26/100\n",
      "880/880 [==============================] - 0s 544us/sample - loss: 3.7883e-05 - val_loss: 9.7517e-04\n",
      "Epoch 27/100\n",
      "880/880 [==============================] - 1s 580us/sample - loss: 3.7163e-05 - val_loss: 0.0011\n",
      "Epoch 28/100\n",
      "880/880 [==============================] - 0s 551us/sample - loss: 4.1582e-05 - val_loss: 5.8827e-04\n",
      "Epoch 29/100\n",
      "880/880 [==============================] - 1s 584us/sample - loss: 3.7685e-05 - val_loss: 4.1731e-04\n",
      "Epoch 30/100\n",
      "880/880 [==============================] - 0s 465us/sample - loss: 3.7357e-05 - val_loss: 4.3178e-04\n",
      "Epoch 31/100\n",
      "880/880 [==============================] - 0s 468us/sample - loss: 3.7023e-05 - val_loss: 3.7476e-04\n",
      "Epoch 32/100\n",
      "880/880 [==============================] - 0s 463us/sample - loss: 3.5755e-05 - val_loss: 2.4802e-04\n",
      "Epoch 33/100\n",
      "880/880 [==============================] - 0s 427us/sample - loss: 3.6512e-05 - val_loss: 2.3649e-04\n",
      "Epoch 34/100\n",
      "880/880 [==============================] - 0s 401us/sample - loss: 3.5850e-05 - val_loss: 2.2325e-04\n",
      "Epoch 35/100\n",
      "880/880 [==============================] - 0s 485us/sample - loss: 3.4554e-05 - val_loss: 1.7726e-04\n",
      "Epoch 36/100\n",
      "880/880 [==============================] - 0s 531us/sample - loss: 3.5334e-05 - val_loss: 1.7436e-04\n",
      "Epoch 37/100\n",
      "880/880 [==============================] - 0s 463us/sample - loss: 3.4668e-05 - val_loss: 1.7439e-04\n",
      "Epoch 38/100\n",
      "880/880 [==============================] - 0s 500us/sample - loss: 3.4343e-05 - val_loss: 1.8142e-04\n",
      "Epoch 39/100\n",
      "880/880 [==============================] - 0s 430us/sample - loss: 3.3475e-05 - val_loss: 1.8235e-04\n",
      "Epoch 40/100\n",
      "880/880 [==============================] - 1s 592us/sample - loss: 3.6390e-05 - val_loss: 2.8977e-04\n",
      "Epoch 41/100\n",
      "880/880 [==============================] - 1s 569us/sample - loss: 3.5975e-05 - val_loss: 2.0531e-04\n",
      "Epoch 42/100\n",
      "880/880 [==============================] - 0s 527us/sample - loss: 3.3587e-05 - val_loss: 2.3091e-04\n",
      "Epoch 43/100\n",
      "880/880 [==============================] - 0s 464us/sample - loss: 3.3558e-05 - val_loss: 2.7665e-04\n",
      "Epoch 44/100\n",
      "880/880 [==============================] - 0s 444us/sample - loss: 3.3717e-05 - val_loss: 4.0003e-04\n",
      "Epoch 45/100\n",
      "880/880 [==============================] - 0s 465us/sample - loss: 3.3783e-05 - val_loss: 3.1461e-04\n",
      "Epoch 46/100\n",
      "880/880 [==============================] - 0s 430us/sample - loss: 3.3589e-05 - val_loss: 3.2926e-04\n",
      "Epoch 47/100\n",
      "880/880 [==============================] - 0s 488us/sample - loss: 3.3118e-05 - val_loss: 3.2634e-04\n",
      "Epoch 48/100\n",
      "880/880 [==============================] - 0s 480us/sample - loss: 3.3587e-05 - val_loss: 5.2913e-04\n",
      "Epoch 49/100\n",
      "880/880 [==============================] - 0s 509us/sample - loss: 3.3653e-05 - val_loss: 4.4394e-04\n",
      "Epoch 50/100\n",
      "880/880 [==============================] - 0s 522us/sample - loss: 3.5180e-05 - val_loss: 6.1001e-04\n",
      "Epoch 51/100\n",
      "880/880 [==============================] - 0s 493us/sample - loss: 3.4479e-05 - val_loss: 5.4366e-04\n",
      "Epoch 52/100\n",
      "880/880 [==============================] - 0s 527us/sample - loss: 3.4382e-05 - val_loss: 3.9257e-04\n",
      "Epoch 53/100\n",
      "880/880 [==============================] - 0s 458us/sample - loss: 4.0581e-05 - val_loss: 7.4076e-04\n",
      "Epoch 54/100\n",
      "880/880 [==============================] - 0s 514us/sample - loss: 3.8717e-05 - val_loss: 6.8030e-04\n",
      "Epoch 55/100\n",
      "880/880 [==============================] - 0s 503us/sample - loss: 3.3736e-05 - val_loss: 4.4003e-04\n",
      "Epoch 56/100\n",
      "880/880 [==============================] - 0s 555us/sample - loss: 3.4699e-05 - val_loss: 6.4255e-04\n",
      "Epoch 57/100\n",
      "880/880 [==============================] - 0s 566us/sample - loss: 3.6555e-05 - val_loss: 9.2592e-04\n",
      "Epoch 58/100\n",
      "880/880 [==============================] - 0s 550us/sample - loss: 3.6304e-05 - val_loss: 4.1419e-04\n",
      "Epoch 59/100\n",
      "880/880 [==============================] - 1s 597us/sample - loss: 3.3811e-05 - val_loss: 0.0010\n",
      "Epoch 60/100\n",
      "880/880 [==============================] - 1s 589us/sample - loss: 3.5260e-05 - val_loss: 6.3801e-04\n",
      "Epoch 61/100\n",
      "880/880 [==============================] - 0s 507us/sample - loss: 3.2480e-05 - val_loss: 7.9344e-04\n",
      "Epoch 62/100\n",
      "880/880 [==============================] - 0s 543us/sample - loss: 3.4103e-05 - val_loss: 6.2000e-04\n",
      "Epoch 63/100\n",
      "880/880 [==============================] - 1s 576us/sample - loss: 3.3167e-05 - val_loss: 6.9791e-04\n",
      "Epoch 64/100\n",
      "880/880 [==============================] - 1s 569us/sample - loss: 3.3002e-05 - val_loss: 6.9460e-04\n",
      "Epoch 65/100\n",
      "880/880 [==============================] - 0s 502us/sample - loss: 3.3811e-05 - val_loss: 5.0440e-04\n",
      "Epoch 66/100\n",
      "880/880 [==============================] - 0s 563us/sample - loss: 3.6773e-05 - val_loss: 8.4842e-04\n",
      "Epoch 67/100\n",
      "880/880 [==============================] - 0s 545us/sample - loss: 3.5178e-05 - val_loss: 8.7194e-04\n",
      "Epoch 68/100\n",
      "880/880 [==============================] - 0s 560us/sample - loss: 3.5547e-05 - val_loss: 8.3249e-04\n",
      "Epoch 69/100\n",
      "880/880 [==============================] - 0s 517us/sample - loss: 3.5158e-05 - val_loss: 5.8443e-04\n",
      "Epoch 70/100\n",
      "880/880 [==============================] - 0s 498us/sample - loss: 3.4839e-05 - val_loss: 5.7799e-04\n"
     ]
    },
    {
     "name": "stdout",
     "output_type": "stream",
     "text": [
      "Epoch 71/100\n",
      "880/880 [==============================] - 1s 597us/sample - loss: 3.6942e-05 - val_loss: 5.5795e-04\n",
      "Epoch 72/100\n",
      "880/880 [==============================] - 0s 550us/sample - loss: 4.1061e-05 - val_loss: 9.7005e-04\n",
      "Epoch 73/100\n",
      "880/880 [==============================] - 1s 605us/sample - loss: 3.8492e-05 - val_loss: 0.0013\n",
      "Epoch 74/100\n",
      "880/880 [==============================] - 0s 532us/sample - loss: 3.8489e-05 - val_loss: 6.3354e-04\n",
      "Epoch 75/100\n",
      "880/880 [==============================] - 0s 566us/sample - loss: 3.6023e-05 - val_loss: 6.9239e-04\n",
      "Epoch 76/100\n",
      "880/880 [==============================] - 1s 581us/sample - loss: 3.6187e-05 - val_loss: 7.2921e-04\n",
      "Epoch 77/100\n",
      "880/880 [==============================] - 1s 601us/sample - loss: 3.8946e-05 - val_loss: 8.0006e-04\n",
      "Epoch 78/100\n",
      "880/880 [==============================] - 0s 495us/sample - loss: 3.3187e-05 - val_loss: 7.2971e-04\n",
      "Epoch 79/100\n",
      "880/880 [==============================] - 0s 472us/sample - loss: 3.4963e-05 - val_loss: 6.3842e-04\n",
      "Epoch 80/100\n",
      "880/880 [==============================] - 1s 631us/sample - loss: 3.4280e-05 - val_loss: 8.7542e-04\n",
      "Epoch 81/100\n",
      "880/880 [==============================] - 1s 610us/sample - loss: 3.5872e-05 - val_loss: 4.7042e-04\n",
      "Epoch 82/100\n",
      "880/880 [==============================] - 0s 543us/sample - loss: 3.7818e-05 - val_loss: 6.5443e-04\n",
      "Epoch 83/100\n",
      "880/880 [==============================] - 1s 568us/sample - loss: 3.3367e-05 - val_loss: 7.2091e-04\n",
      "Epoch 84/100\n",
      "880/880 [==============================] - 0s 543us/sample - loss: 3.2741e-05 - val_loss: 7.0405e-04\n",
      "Epoch 85/100\n",
      "880/880 [==============================] - 0s 480us/sample - loss: 3.2792e-05 - val_loss: 9.5792e-04\n",
      "Epoch 86/100\n",
      "880/880 [==============================] - 1s 584us/sample - loss: 3.6731e-05 - val_loss: 8.5034e-04\n",
      "Epoch 87/100\n",
      "880/880 [==============================] - 0s 469us/sample - loss: 3.2721e-05 - val_loss: 7.1270e-04\n",
      "Epoch 88/100\n",
      "880/880 [==============================] - 0s 563us/sample - loss: 3.2969e-05 - val_loss: 6.9477e-04\n",
      "Epoch 89/100\n",
      "880/880 [==============================] - 0s 556us/sample - loss: 3.4210e-05 - val_loss: 7.7130e-04\n",
      "Epoch 90/100\n",
      "880/880 [==============================] - 0s 494us/sample - loss: 3.7400e-05 - val_loss: 8.2822e-04\n",
      "Epoch 91/100\n",
      "880/880 [==============================] - 0s 525us/sample - loss: 3.3670e-05 - val_loss: 5.9521e-04\n",
      "Epoch 92/100\n",
      "880/880 [==============================] - 0s 494us/sample - loss: 3.2606e-05 - val_loss: 7.9177e-04\n",
      "Epoch 93/100\n",
      "880/880 [==============================] - 0s 552us/sample - loss: 3.3462e-05 - val_loss: 9.1348e-04\n",
      "Epoch 94/100\n",
      "880/880 [==============================] - 0s 497us/sample - loss: 3.4120e-05 - val_loss: 9.5828e-04\n",
      "Epoch 95/100\n",
      "880/880 [==============================] - 0s 508us/sample - loss: 3.4427e-05 - val_loss: 7.0644e-04\n",
      "Epoch 96/100\n",
      "880/880 [==============================] - 0s 509us/sample - loss: 3.2748e-05 - val_loss: 7.4116e-04\n",
      "Epoch 97/100\n",
      "880/880 [==============================] - 0s 505us/sample - loss: 3.4564e-05 - val_loss: 0.0011\n",
      "Epoch 98/100\n",
      "880/880 [==============================] - 0s 494us/sample - loss: 3.3242e-05 - val_loss: 9.0350e-04\n",
      "Epoch 99/100\n",
      "880/880 [==============================] - 0s 498us/sample - loss: 3.5007e-05 - val_loss: 8.8133e-04\n",
      "Epoch 100/100\n",
      "880/880 [==============================] - 0s 485us/sample - loss: 3.4450e-05 - val_loss: 7.1747e-04\n"
     ]
    },
    {
     "data": {
      "text/plain": [
       "<tensorflow.python.keras.callbacks.History at 0x2084ad98cf8>"
      ]
     },
     "execution_count": 45,
     "metadata": {},
     "output_type": "execute_result"
    }
   ],
   "source": [
    "\n",
    "model.fit(X_train_new,y_train_new,validation_data=(X_test_new,y_test_new),epochs=100,batch_size=64,verbose=1)"
   ]
  },
  {
   "cell_type": "code",
   "execution_count": 46,
   "metadata": {},
   "outputs": [],
   "source": [
    "### Lets Do the prediction and check performance metrics\n",
    "train_predict=model.predict(X_train_new)\n",
    "test_predict=model.predict(X_test_new)"
   ]
  },
  {
   "cell_type": "code",
   "execution_count": 47,
   "metadata": {},
   "outputs": [],
   "source": [
    "##Transformback to original form\n",
    "train_predict=scaler_y.inverse_transform(train_predict)\n",
    "test_predict=scaler_y.inverse_transform(test_predict)"
   ]
  },
  {
   "cell_type": "code",
   "execution_count": 48,
   "metadata": {},
   "outputs": [
    {
     "data": {
      "text/plain": [
       "1445.5312622165886"
      ]
     },
     "execution_count": 48,
     "metadata": {},
     "output_type": "execute_result"
    }
   ],
   "source": [
    "import math\n",
    "from sklearn.metrics import mean_squared_error,accuracy_score,r2_score\n",
    "math.sqrt(mean_squared_error(y_train_new,train_predict))"
   ]
  },
  {
   "cell_type": "code",
   "execution_count": 49,
   "metadata": {},
   "outputs": [
    {
     "data": {
      "text/plain": [
       "2894.4467804075416"
      ]
     },
     "execution_count": 49,
     "metadata": {},
     "output_type": "execute_result"
    }
   ],
   "source": [
    "### Test Data RMSE_\n",
    "math.sqrt(mean_squared_error(y_test_new,test_predict))"
   ]
  },
  {
   "cell_type": "code",
   "execution_count": 50,
   "metadata": {},
   "outputs": [
    {
     "data": {
      "text/plain": [
       "0.9754177867396604"
      ]
     },
     "execution_count": 50,
     "metadata": {},
     "output_type": "execute_result"
    }
   ],
   "source": [
    "r2_score(y_test_new,model.predict(X_test_new))"
   ]
  },
  {
   "cell_type": "code",
   "execution_count": 51,
   "metadata": {},
   "outputs": [
    {
     "data": {
      "text/plain": [
       "array([[1879.0822],\n",
       "       [1880.1367],\n",
       "       [1870.6353],\n",
       "       [1893.6301],\n",
       "       [1882.3594]], dtype=float32)"
      ]
     },
     "execution_count": 51,
     "metadata": {},
     "output_type": "execute_result"
    }
   ],
   "source": [
    "\n",
    "test_predict[0:5]"
   ]
  },
  {
   "cell_type": "code",
   "execution_count": 52,
   "metadata": {},
   "outputs": [
    {
     "name": "stdout",
     "output_type": "stream",
     "text": [
      "880/880 [==============================] - 4s 4ms/sample - loss: 3.2171e-05\n",
      "378/378 [==============================] - 2s 4ms/sample - loss: 7.1747e-04\n",
      "Train Loss = 0.0\n",
      "Test Loss = 0.0007\n"
     ]
    }
   ],
   "source": [
    "# calculating the training mean-squared-error\n",
    "train_loss = model.evaluate(X_train_new, y_train_new, batch_size = 1)\n",
    "\n",
    "# calculating the test mean-squared-error_\n",
    "test_loss = model.evaluate(X_test_new, y_test_new, batch_size = 1)\n",
    "\n",
    "# printing the training and the test mean-squared-errors\n",
    "print('Train Loss =', round(train_loss,4))\n",
    "print('Test Loss =', round(test_loss,4))"
   ]
  },
  {
   "cell_type": "code",
   "execution_count": 53,
   "metadata": {},
   "outputs": [],
   "source": [
    "# unscaling the test feature dataset, x_test\n",
    "X_test_new = scaler_x.inverse_transform(np.array(X_test_new).reshape((len(X_test_new), 3)))\n",
    "\n",
    "# unscaling the test y dataset, y_test\n",
    "y_train_new = scaler_y.inverse_transform(np.array(y_train_new).reshape((len(y_train_new), 1)))\n",
    "y_test_new = scaler_y.inverse_transform(np.array(y_test_new).reshape((len(y_test_new), 1)))"
   ]
  },
  {
   "cell_type": "code",
   "execution_count": 55,
   "metadata": {},
   "outputs": [
    {
     "data": {
      "text/plain": [
       "array([[1877.94],\n",
       "       [1864.72],\n",
       "       [1892.  ],\n",
       "       [1887.46],\n",
       "       [1884.58],\n",
       "       [1861.64],\n",
       "       [1828.34],\n",
       "       [1853.25],\n",
       "       [1858.  ],\n",
       "       [1870.68]])"
      ]
     },
     "execution_count": 55,
     "metadata": {},
     "output_type": "execute_result"
    }
   ],
   "source": [
    "y_test_new[0:10]"
   ]
  },
  {
   "cell_type": "code",
   "execution_count": 57,
   "metadata": {},
   "outputs": [
    {
     "data": {
      "image/png": "[encoded data removed]",
      "text/plain": [
       "<Figure size 1152x720 with 1 Axes>"
      ]
     },
     "metadata": {},
     "output_type": "display_data"
    }
   ],
   "source": [
    "# plotting\n",
    "plt.figure(figsize=(16,10))\n",
    "\n",
    "# plt.plot([row[0] for row in y_train], label=\"Training Close Price\")\n",
    "plt.plot(test_predict, label=\"Predicted Close Price\")\n",
    "plt.plot([row[0] for row in y_test_new], label=\"Testing Close Price\")\n",
    "plt.legend()\n",
    "plt.show()"
   ]
  },
  {
   "cell_type": "code",
   "execution_count": null,
   "metadata": {},
   "outputs": [],
   "source": []
  }
 ],
 "metadata": {
  "kernelspec": {
   "display_name": "Python 3",
   "language": "python",
   "name": "python3"
  },
  "language_info": {
   "codemirror_mode": {
    "name": "ipython",
    "version": 3
   },
   "file_extension": ".py",
   "mimetype": "text/x-python",
   "name": "python",
   "nbconvert_exporter": "python",
   "pygments_lexer": "ipython3",
   "version": "3.6.5"
  }
 },
 "nbformat": 4,
 "nbformat_minor": 2
}
